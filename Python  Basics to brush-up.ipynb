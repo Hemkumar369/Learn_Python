{
 "cells": [
  {
   "cell_type": "code",
   "execution_count": 1,
   "id": "16dd4036",
   "metadata": {},
   "outputs": [],
   "source": [
    "employee = {'name':'jack', 'age':30, 'year':30}"
   ]
  },
  {
   "cell_type": "code",
   "execution_count": 2,
   "id": "37fb037f",
   "metadata": {},
   "outputs": [
    {
     "data": {
      "text/plain": [
       "dict"
      ]
     },
     "execution_count": 2,
     "metadata": {},
     "output_type": "execute_result"
    }
   ],
   "source": [
    "type(employee)"
   ]
  },
  {
   "cell_type": "code",
   "execution_count": 3,
   "id": "b1d4e99b",
   "metadata": {},
   "outputs": [
    {
     "data": {
      "text/plain": [
       "float"
      ]
     },
     "execution_count": 3,
     "metadata": {},
     "output_type": "execute_result"
    }
   ],
   "source": [
    "a = 10.00\n",
    "\n",
    "type(a)"
   ]
  },
  {
   "cell_type": "code",
   "execution_count": 5,
   "id": "0a818cfb",
   "metadata": {},
   "outputs": [
    {
     "data": {
      "text/plain": [
       "{'name': 'jack', 'age': 30, 'year': 30}"
      ]
     },
     "execution_count": 5,
     "metadata": {},
     "output_type": "execute_result"
    }
   ],
   "source": [
    "employee"
   ]
  },
  {
   "cell_type": "code",
   "execution_count": 10,
   "id": "dc5f2410",
   "metadata": {},
   "outputs": [
    {
     "data": {
      "text/plain": [
       "'jack'"
      ]
     },
     "execution_count": 10,
     "metadata": {},
     "output_type": "execute_result"
    }
   ],
   "source": [
    "# Accessing the particular value of the key\n",
    "\n",
    "employee['name']"
   ]
  },
  {
   "cell_type": "code",
   "execution_count": 11,
   "id": "e65523ad",
   "metadata": {},
   "outputs": [],
   "source": [
    "# Only these data types will be considered into dictionary : strings, tuple, integers"
   ]
  },
  {
   "cell_type": "code",
   "execution_count": 12,
   "id": "0d64a919",
   "metadata": {},
   "outputs": [
    {
     "data": {
      "text/plain": [
       "30"
      ]
     },
     "execution_count": 12,
     "metadata": {},
     "output_type": "execute_result"
    }
   ],
   "source": [
    "employee.get('age')"
   ]
  },
  {
   "cell_type": "code",
   "execution_count": 13,
   "id": "d461dc49",
   "metadata": {},
   "outputs": [],
   "source": [
    "# How to edit the value in the dictionary"
   ]
  },
  {
   "cell_type": "code",
   "execution_count": 15,
   "id": "c589db39",
   "metadata": {},
   "outputs": [
    {
     "data": {
      "text/plain": [
       "{'name': 'Anushka', 'age': 30, 'year': 30}"
      ]
     },
     "execution_count": 15,
     "metadata": {},
     "output_type": "execute_result"
    }
   ],
   "source": [
    "employee['name'] = 'Anushka'\n",
    "employee"
   ]
  },
  {
   "cell_type": "code",
   "execution_count": 16,
   "id": "bda99c67",
   "metadata": {},
   "outputs": [],
   "source": [
    "# Tuple ?\n",
    "\n",
    "# Nested dictionary ??"
   ]
  },
  {
   "cell_type": "code",
   "execution_count": null,
   "id": "22a71afe",
   "metadata": {},
   "outputs": [],
   "source": [
    "# What is the use case of Dictionary ?"
   ]
  },
  {
   "cell_type": "code",
   "execution_count": 17,
   "id": "f4a6b9ca",
   "metadata": {},
   "outputs": [],
   "source": [
    "# dictionary can be accessed through keys and they are unordered\n",
    "\n",
    "# Please remember"
   ]
  },
  {
   "cell_type": "code",
   "execution_count": 18,
   "id": "94639617",
   "metadata": {},
   "outputs": [],
   "source": [
    "# How to delete a key from the dict"
   ]
  },
  {
   "cell_type": "code",
   "execution_count": 19,
   "id": "2b447556",
   "metadata": {},
   "outputs": [],
   "source": [
    "del employee['name']"
   ]
  },
  {
   "cell_type": "code",
   "execution_count": 20,
   "id": "47b74b0c",
   "metadata": {},
   "outputs": [
    {
     "data": {
      "text/plain": [
       "{'age': 30, 'year': 30}"
      ]
     },
     "execution_count": 20,
     "metadata": {},
     "output_type": "execute_result"
    }
   ],
   "source": [
    "employee"
   ]
  },
  {
   "cell_type": "code",
   "execution_count": 21,
   "id": "6d101ac6",
   "metadata": {},
   "outputs": [
    {
     "name": "stdout",
     "output_type": "stream",
     "text": [
      "{1: 2, 2: 3}\n"
     ]
    }
   ],
   "source": [
    "employee1 = dict([(1,2),(2,3)])\n",
    "\n",
    "print(employee1)"
   ]
  },
  {
   "cell_type": "code",
   "execution_count": 23,
   "id": "ff947231",
   "metadata": {},
   "outputs": [],
   "source": [
    "if 'name' in employee:\n",
    "    print(True)"
   ]
  },
  {
   "cell_type": "code",
   "execution_count": 25,
   "id": "8299bc51",
   "metadata": {},
   "outputs": [
    {
     "data": {
      "text/plain": [
       "dict_keys(['age', 'year'])"
      ]
     },
     "execution_count": 25,
     "metadata": {},
     "output_type": "execute_result"
    }
   ],
   "source": [
    "# It will give the all keys present in the dictionary\n",
    "\n",
    "employee.keys()"
   ]
  },
  {
   "cell_type": "code",
   "execution_count": 26,
   "id": "bb405b01",
   "metadata": {},
   "outputs": [
    {
     "data": {
      "text/plain": [
       "2"
      ]
     },
     "execution_count": 26,
     "metadata": {},
     "output_type": "execute_result"
    }
   ],
   "source": [
    "# How to find, number of keys I have\n",
    "\n",
    "len(employee)"
   ]
  },
  {
   "cell_type": "code",
   "execution_count": 29,
   "id": "a301903b",
   "metadata": {},
   "outputs": [],
   "source": [
    "employee.get('address')"
   ]
  },
  {
   "cell_type": "code",
   "execution_count": 31,
   "id": "dcbc412f",
   "metadata": {},
   "outputs": [
    {
     "data": {
      "text/plain": [
       "dict_items([('age', 30), ('year', 30)])"
      ]
     },
     "execution_count": 31,
     "metadata": {},
     "output_type": "execute_result"
    }
   ],
   "source": [
    "employee.items()\n",
    "\n",
    "# This will give both key and value pair"
   ]
  },
  {
   "cell_type": "code",
   "execution_count": 33,
   "id": "a131be89",
   "metadata": {},
   "outputs": [
    {
     "ename": "KeyError",
     "evalue": "1",
     "output_type": "error",
     "traceback": [
      "\u001b[1;31m---------------------------------------------------------------------------\u001b[0m",
      "\u001b[1;31mKeyError\u001b[0m                                  Traceback (most recent call last)",
      "\u001b[1;32m<ipython-input-33-1f0cfc336721>\u001b[0m in \u001b[0;36m<module>\u001b[1;34m\u001b[0m\n\u001b[1;32m----> 1\u001b[1;33m \u001b[0memployee\u001b[0m\u001b[1;33m.\u001b[0m\u001b[0mpop\u001b[0m\u001b[1;33m(\u001b[0m\u001b[1;36m1\u001b[0m\u001b[1;33m)\u001b[0m\u001b[1;33m\u001b[0m\u001b[1;33m\u001b[0m\u001b[0m\n\u001b[0m",
      "\u001b[1;31mKeyError\u001b[0m: 1"
     ]
    }
   ],
   "source": [
    "employee.pop(1)"
   ]
  },
  {
   "cell_type": "code",
   "execution_count": 34,
   "id": "0bb8b4f1",
   "metadata": {},
   "outputs": [],
   "source": [
    "# what does this pop will do ?"
   ]
  },
  {
   "cell_type": "code",
   "execution_count": 1,
   "id": "a1851878",
   "metadata": {},
   "outputs": [],
   "source": [
    "# You will be creating list with Square braces"
   ]
  },
  {
   "cell_type": "code",
   "execution_count": 2,
   "id": "441df788",
   "metadata": {},
   "outputs": [],
   "source": [
    "l1 = [1,2,3,4,5,6]"
   ]
  },
  {
   "cell_type": "code",
   "execution_count": 3,
   "id": "d17d4127",
   "metadata": {},
   "outputs": [
    {
     "data": {
      "text/plain": [
       "[1, 2, 3, 4, 5, 6]"
      ]
     },
     "execution_count": 3,
     "metadata": {},
     "output_type": "execute_result"
    }
   ],
   "source": [
    "l1"
   ]
  },
  {
   "cell_type": "code",
   "execution_count": 4,
   "id": "920337cc",
   "metadata": {},
   "outputs": [
    {
     "data": {
      "text/plain": [
       "1"
      ]
     },
     "execution_count": 4,
     "metadata": {},
     "output_type": "execute_result"
    }
   ],
   "source": [
    "l1[0]"
   ]
  },
  {
   "cell_type": "code",
   "execution_count": 5,
   "id": "66db1521",
   "metadata": {},
   "outputs": [
    {
     "data": {
      "text/plain": [
       "6"
      ]
     },
     "execution_count": 5,
     "metadata": {},
     "output_type": "execute_result"
    }
   ],
   "source": [
    "l1[-1]"
   ]
  },
  {
   "cell_type": "markdown",
   "id": "b4186432",
   "metadata": {},
   "source": [
    "List is muttable, we can change the elements in the list"
   ]
  },
  {
   "cell_type": "code",
   "execution_count": 6,
   "id": "b80f3e79",
   "metadata": {},
   "outputs": [],
   "source": [
    "l1[1] = 100"
   ]
  },
  {
   "cell_type": "code",
   "execution_count": 7,
   "id": "49814d79",
   "metadata": {},
   "outputs": [
    {
     "data": {
      "text/plain": [
       "[1, 100, 3, 4, 5, 6]"
      ]
     },
     "execution_count": 7,
     "metadata": {},
     "output_type": "execute_result"
    }
   ],
   "source": [
    "l1"
   ]
  },
  {
   "cell_type": "code",
   "execution_count": 8,
   "id": "d731ab8f",
   "metadata": {},
   "outputs": [],
   "source": [
    "l1[2] = \"abc\""
   ]
  },
  {
   "cell_type": "code",
   "execution_count": 9,
   "id": "106098e8",
   "metadata": {},
   "outputs": [
    {
     "data": {
      "text/plain": [
       "[1, 100, 'abc', 4, 5, 6]"
      ]
     },
     "execution_count": 9,
     "metadata": {},
     "output_type": "execute_result"
    }
   ],
   "source": [
    "l1"
   ]
  },
  {
   "cell_type": "code",
   "execution_count": 10,
   "id": "f21aed43",
   "metadata": {},
   "outputs": [
    {
     "data": {
      "text/plain": [
       "[1, 100, 'abc', 4, 5, 6, 100]"
      ]
     },
     "execution_count": 10,
     "metadata": {},
     "output_type": "execute_result"
    }
   ],
   "source": [
    "# append, extend\n",
    "\n",
    "l1.append(100)\n",
    "l1"
   ]
  },
  {
   "cell_type": "code",
   "execution_count": 11,
   "id": "ee4d1a21",
   "metadata": {},
   "outputs": [],
   "source": [
    "l1.extend([7,8,4,5,6,1,2,3,4])"
   ]
  },
  {
   "cell_type": "code",
   "execution_count": 12,
   "id": "47d27c10",
   "metadata": {},
   "outputs": [
    {
     "data": {
      "text/plain": [
       "[1, 100, 'abc', 4, 5, 6, 100, 7, 8, 4, 5, 6, 1, 2, 3, 4]"
      ]
     },
     "execution_count": 12,
     "metadata": {},
     "output_type": "execute_result"
    }
   ],
   "source": [
    "l1"
   ]
  },
  {
   "cell_type": "code",
   "execution_count": 13,
   "id": "56b9c488",
   "metadata": {},
   "outputs": [],
   "source": [
    "# To remove\n",
    "\n",
    "# remove, pop\n",
    "\n",
    "l1.remove('abc')"
   ]
  },
  {
   "cell_type": "code",
   "execution_count": 14,
   "id": "f6ad6160",
   "metadata": {},
   "outputs": [
    {
     "data": {
      "text/plain": [
       "[1, 100, 4, 5, 6, 100, 7, 8, 4, 5, 6, 1, 2, 3, 4]"
      ]
     },
     "execution_count": 14,
     "metadata": {},
     "output_type": "execute_result"
    }
   ],
   "source": [
    "l1"
   ]
  },
  {
   "cell_type": "code",
   "execution_count": 15,
   "id": "ce0ecf67",
   "metadata": {},
   "outputs": [
    {
     "data": {
      "text/plain": [
       "5"
      ]
     },
     "execution_count": 15,
     "metadata": {},
     "output_type": "execute_result"
    }
   ],
   "source": [
    "l1.pop(3) # by index"
   ]
  },
  {
   "cell_type": "code",
   "execution_count": 16,
   "id": "cae4f651",
   "metadata": {},
   "outputs": [
    {
     "data": {
      "text/plain": [
       "[1, 100, 4, 6, 100, 7, 8, 4, 5, 6, 1, 2, 3, 4]"
      ]
     },
     "execution_count": 16,
     "metadata": {},
     "output_type": "execute_result"
    }
   ],
   "source": [
    "l1"
   ]
  },
  {
   "cell_type": "markdown",
   "id": "2882031b",
   "metadata": {},
   "source": [
    "To find the length use len"
   ]
  },
  {
   "cell_type": "code",
   "execution_count": 17,
   "id": "6d80d779",
   "metadata": {},
   "outputs": [
    {
     "data": {
      "text/plain": [
       "[1,\n",
       " 100,\n",
       " 4,\n",
       " 6,\n",
       " 100,\n",
       " 7,\n",
       " 8,\n",
       " 4,\n",
       " 5,\n",
       " 6,\n",
       " 1,\n",
       " 2,\n",
       " 3,\n",
       " 4,\n",
       " 1,\n",
       " 100,\n",
       " 4,\n",
       " 6,\n",
       " 100,\n",
       " 7,\n",
       " 8,\n",
       " 4,\n",
       " 5,\n",
       " 6,\n",
       " 1,\n",
       " 2,\n",
       " 3,\n",
       " 4]"
      ]
     },
     "execution_count": 17,
     "metadata": {},
     "output_type": "execute_result"
    }
   ],
   "source": [
    "l1*2"
   ]
  },
  {
   "cell_type": "code",
   "execution_count": 18,
   "id": "6816379f",
   "metadata": {},
   "outputs": [
    {
     "data": {
      "text/plain": [
       "[1, 100, 4, 6, 100, 7, 8, 4, 5, 6, 1, 2, 3, 4]"
      ]
     },
     "execution_count": 18,
     "metadata": {},
     "output_type": "execute_result"
    }
   ],
   "source": [
    "# You can use extend, +\n",
    "\n",
    "l1 + [7,8,4,6,3]\n",
    "\n",
    "l1"
   ]
  },
  {
   "cell_type": "code",
   "execution_count": 22,
   "id": "3896441a",
   "metadata": {},
   "outputs": [
    {
     "data": {
      "text/plain": [
       "list"
      ]
     },
     "execution_count": 22,
     "metadata": {},
     "output_type": "execute_result"
    }
   ],
   "source": [
    "type(l1)"
   ]
  },
  {
   "cell_type": "markdown",
   "id": "575418a0",
   "metadata": {},
   "source": [
    "clear\n",
    "\n",
    "Your list will ge empty "
   ]
  },
  {
   "cell_type": "code",
   "execution_count": 24,
   "id": "de0e091f",
   "metadata": {},
   "outputs": [
    {
     "data": {
      "text/plain": [
       "2"
      ]
     },
     "execution_count": 24,
     "metadata": {},
     "output_type": "execute_result"
    }
   ],
   "source": [
    "l1.index(4)"
   ]
  },
  {
   "cell_type": "code",
   "execution_count": 26,
   "id": "fbf4a29b",
   "metadata": {},
   "outputs": [
    {
     "data": {
      "text/plain": [
       "[1, 1, 2, 3, 4, 4, 4, 5, 6, 6, 7, 8, 100, 100]"
      ]
     },
     "execution_count": 26,
     "metadata": {},
     "output_type": "execute_result"
    }
   ],
   "source": [
    "l1.sort()\n",
    "l1"
   ]
  },
  {
   "cell_type": "code",
   "execution_count": 27,
   "id": "0c303f69",
   "metadata": {},
   "outputs": [
    {
     "data": {
      "text/plain": [
       "[100, 100, 8, 7, 6, 6, 5, 4, 4, 4, 3, 2, 1, 1]"
      ]
     },
     "execution_count": 27,
     "metadata": {},
     "output_type": "execute_result"
    }
   ],
   "source": [
    "l1.sort(reverse=True)\n",
    "l1"
   ]
  },
  {
   "cell_type": "code",
   "execution_count": 28,
   "id": "80103628",
   "metadata": {},
   "outputs": [],
   "source": [
    "l1.reverse()"
   ]
  },
  {
   "cell_type": "code",
   "execution_count": 29,
   "id": "62a23b10",
   "metadata": {},
   "outputs": [
    {
     "data": {
      "text/plain": [
       "[1, 1, 2, 3, 4, 4, 4, 5, 6, 6, 7, 8, 100, 100]"
      ]
     },
     "execution_count": 29,
     "metadata": {},
     "output_type": "execute_result"
    }
   ],
   "source": [
    "l1"
   ]
  },
  {
   "cell_type": "code",
   "execution_count": 30,
   "id": "e5445260",
   "metadata": {},
   "outputs": [
    {
     "data": {
      "text/plain": [
       "1"
      ]
     },
     "execution_count": 30,
     "metadata": {},
     "output_type": "execute_result"
    }
   ],
   "source": [
    "min(l1)"
   ]
  },
  {
   "cell_type": "code",
   "execution_count": 31,
   "id": "c75112fd",
   "metadata": {},
   "outputs": [
    {
     "data": {
      "text/plain": [
       "100"
      ]
     },
     "execution_count": 31,
     "metadata": {},
     "output_type": "execute_result"
    }
   ],
   "source": [
    "max(l1)"
   ]
  },
  {
   "cell_type": "code",
   "execution_count": 32,
   "id": "04f51e0f",
   "metadata": {},
   "outputs": [
    {
     "data": {
      "text/plain": [
       "251"
      ]
     },
     "execution_count": 32,
     "metadata": {},
     "output_type": "execute_result"
    }
   ],
   "source": [
    "sum(l1)"
   ]
  },
  {
   "cell_type": "markdown",
   "id": "053d8560",
   "metadata": {},
   "source": [
    "To filter only the even numbers"
   ]
  },
  {
   "cell_type": "code",
   "execution_count": 36,
   "id": "dbf56009",
   "metadata": {},
   "outputs": [
    {
     "data": {
      "text/plain": [
       "[2, 4, 4, 4, 6, 6, 8, 100, 100]"
      ]
     },
     "execution_count": 36,
     "metadata": {},
     "output_type": "execute_result"
    }
   ],
   "source": [
    "list(filter(lambda x: x%2 == 0,l1))"
   ]
  },
  {
   "cell_type": "code",
   "execution_count": 37,
   "id": "3be6efeb",
   "metadata": {},
   "outputs": [],
   "source": [
    "# I need to learn lambda functions in Python"
   ]
  },
  {
   "cell_type": "markdown",
   "id": "a2ea7603",
   "metadata": {},
   "source": [
    "Tuple"
   ]
  },
  {
   "cell_type": "markdown",
   "id": "0234c42d",
   "metadata": {},
   "source": [
    "Tuple is immutable"
   ]
  },
  {
   "cell_type": "markdown",
   "id": "d254c205",
   "metadata": {},
   "source": [
    "It is an ordered collection"
   ]
  },
  {
   "cell_type": "code",
   "execution_count": 38,
   "id": "ecf06ebe",
   "metadata": {},
   "outputs": [
    {
     "data": {
      "text/plain": [
       "(1, 3, 45, 676)"
      ]
     },
     "execution_count": 38,
     "metadata": {},
     "output_type": "execute_result"
    }
   ],
   "source": [
    "t1 = (1,3,45,676)\n",
    "t1"
   ]
  },
  {
   "cell_type": "code",
   "execution_count": 39,
   "id": "c6aa288e",
   "metadata": {},
   "outputs": [
    {
     "data": {
      "text/plain": [
       "45"
      ]
     },
     "execution_count": 39,
     "metadata": {},
     "output_type": "execute_result"
    }
   ],
   "source": [
    "t1[2]"
   ]
  },
  {
   "cell_type": "code",
   "execution_count": 40,
   "id": "dcea0221",
   "metadata": {},
   "outputs": [
    {
     "data": {
      "text/plain": [
       "676"
      ]
     },
     "execution_count": 40,
     "metadata": {},
     "output_type": "execute_result"
    }
   ],
   "source": [
    "t1[-1]"
   ]
  },
  {
   "cell_type": "code",
   "execution_count": 41,
   "id": "70a0733f",
   "metadata": {},
   "outputs": [
    {
     "data": {
      "text/plain": [
       "3"
      ]
     },
     "execution_count": 41,
     "metadata": {},
     "output_type": "execute_result"
    }
   ],
   "source": [
    "t1[-3]"
   ]
  },
  {
   "cell_type": "code",
   "execution_count": 42,
   "id": "98b2a6d9",
   "metadata": {},
   "outputs": [
    {
     "data": {
      "text/plain": [
       "4"
      ]
     },
     "execution_count": 42,
     "metadata": {},
     "output_type": "execute_result"
    }
   ],
   "source": [
    "len(t1)"
   ]
  },
  {
   "cell_type": "code",
   "execution_count": 43,
   "id": "d206ccc6",
   "metadata": {},
   "outputs": [
    {
     "ename": "TypeError",
     "evalue": "'tuple' object does not support item assignment",
     "output_type": "error",
     "traceback": [
      "\u001b[1;31m---------------------------------------------------------------------------\u001b[0m",
      "\u001b[1;31mTypeError\u001b[0m                                 Traceback (most recent call last)",
      "\u001b[1;32m<ipython-input-43-c7dad60b0049>\u001b[0m in \u001b[0;36m<module>\u001b[1;34m\u001b[0m\n\u001b[1;32m----> 1\u001b[1;33m \u001b[0mt1\u001b[0m\u001b[1;33m[\u001b[0m\u001b[1;36m0\u001b[0m\u001b[1;33m]\u001b[0m\u001b[1;33m=\u001b[0m \u001b[1;34m\"abc\"\u001b[0m\u001b[1;33m\u001b[0m\u001b[1;33m\u001b[0m\u001b[0m\n\u001b[0m",
      "\u001b[1;31mTypeError\u001b[0m: 'tuple' object does not support item assignment"
     ]
    }
   ],
   "source": [
    "t1[0]= \"abc\""
   ]
  },
  {
   "cell_type": "markdown",
   "id": "b7de1090",
   "metadata": {},
   "source": [
    "Tuple is immutable"
   ]
  },
  {
   "cell_type": "code",
   "execution_count": 44,
   "id": "f3e17cdb",
   "metadata": {},
   "outputs": [
    {
     "data": {
      "text/plain": [
       "((0, 1), (1, 3), (2, 45), (3, 676))"
      ]
     },
     "execution_count": 44,
     "metadata": {},
     "output_type": "execute_result"
    }
   ],
   "source": [
    "tuple(enumerate(t1))"
   ]
  },
  {
   "cell_type": "code",
   "execution_count": 45,
   "id": "3bf143d3",
   "metadata": {},
   "outputs": [
    {
     "data": {
      "text/plain": [
       "(1, 3, 45, 676)"
      ]
     },
     "execution_count": 45,
     "metadata": {},
     "output_type": "execute_result"
    }
   ],
   "source": [
    "t1"
   ]
  },
  {
   "cell_type": "code",
   "execution_count": 46,
   "id": "afb9a494",
   "metadata": {},
   "outputs": [
    {
     "data": {
      "text/plain": [
       "(1, 9, 2025, 456976)"
      ]
     },
     "execution_count": 46,
     "metadata": {},
     "output_type": "execute_result"
    }
   ],
   "source": [
    "tuple(map(lambda x : x**2,t1))"
   ]
  },
  {
   "cell_type": "markdown",
   "id": "cdd043fe",
   "metadata": {},
   "source": [
    "map\n",
    "filter\n",
    "lambda\n",
    "enumerate"
   ]
  },
  {
   "cell_type": "code",
   "execution_count": 47,
   "id": "a92548ba",
   "metadata": {},
   "outputs": [
    {
     "data": {
      "text/plain": [
       "[676, 45, 3, 1]"
      ]
     },
     "execution_count": 47,
     "metadata": {},
     "output_type": "execute_result"
    }
   ],
   "source": [
    "sorted(t1, reverse = True)"
   ]
  },
  {
   "cell_type": "markdown",
   "id": "abd39ec8",
   "metadata": {},
   "source": [
    "Set"
   ]
  },
  {
   "cell_type": "code",
   "execution_count": 48,
   "id": "371504aa",
   "metadata": {},
   "outputs": [],
   "source": [
    "# Unordered collection"
   ]
  },
  {
   "cell_type": "code",
   "execution_count": 49,
   "id": "2054dd1a",
   "metadata": {},
   "outputs": [
    {
     "data": {
      "text/plain": [
       "{'a', 'b', 'c', 'd'}"
      ]
     },
     "execution_count": 49,
     "metadata": {},
     "output_type": "execute_result"
    }
   ],
   "source": [
    "s2 = {'a','b','c','d'}\n",
    "s2"
   ]
  },
  {
   "cell_type": "code",
   "execution_count": 51,
   "id": "448d0bbc",
   "metadata": {},
   "outputs": [],
   "source": [
    "s2.remove('a')"
   ]
  },
  {
   "cell_type": "code",
   "execution_count": 52,
   "id": "7b969069",
   "metadata": {},
   "outputs": [
    {
     "data": {
      "text/plain": [
       "{'b', 'c', 'd'}"
      ]
     },
     "execution_count": 52,
     "metadata": {},
     "output_type": "execute_result"
    }
   ],
   "source": [
    "s2"
   ]
  },
  {
   "cell_type": "code",
   "execution_count": null,
   "id": "70310908",
   "metadata": {},
   "outputs": [],
   "source": []
  }
 ],
 "metadata": {
  "kernelspec": {
   "display_name": "Python 3",
   "language": "python",
   "name": "python3"
  },
  "language_info": {
   "codemirror_mode": {
    "name": "ipython",
    "version": 3
   },
   "file_extension": ".py",
   "mimetype": "text/x-python",
   "name": "python",
   "nbconvert_exporter": "python",
   "pygments_lexer": "ipython3",
   "version": "3.8.8"
  }
 },
 "nbformat": 4,
 "nbformat_minor": 5
}
